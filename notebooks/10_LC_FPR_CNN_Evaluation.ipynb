{
 "cells": [
  {
   "cell_type": "code",
   "execution_count": 1,
   "metadata": {
    "id": "K76aC1eJEBOv"
   },
   "outputs": [],
   "source": [
    "import os\n",
    "import numpy as np\n",
    "import tensorflow as tf\n",
    "import matplotlib.pyplot as plt\n",
    "from tensorflow.keras.preprocessing.image import ImageDataGenerator\n",
    "from IPython.display import clear_output\n",
    "from sklearn.metrics import ConfusionMatrixDisplay"
   ]
  },
  {
   "cell_type": "code",
   "execution_count": 2,
   "metadata": {
    "colab": {
     "base_uri": "https://localhost:8080/"
    },
    "id": "e3atHEsuEmS2",
    "outputId": "605c15d9-184f-44e5-936d-fd05d580a50b"
   },
   "outputs": [
    {
     "name": "stdout",
     "output_type": "stream",
     "text": [
      "Mounted at drive\n"
     ]
    }
   ],
   "source": [
    "from google.colab import drive\n",
    "drive.mount(\"drive\")"
   ]
  },
  {
   "cell_type": "code",
   "execution_count": 3,
   "metadata": {
    "id": "NYoeR4oZE4lq"
   },
   "outputs": [],
   "source": [
    "!unzip drive/MyDrive/Datasets/lc/FPR/FPRDataset.zip\n",
    "clear_output()"
   ]
  },
  {
   "cell_type": "code",
   "execution_count": 2,
   "metadata": {
    "colab": {
     "base_uri": "https://localhost:8080/"
    },
    "id": "8QT8hg3IFM1F",
    "outputId": "a53e2f5b-8560-48f6-b33e-b70a4f3ae8ca"
   },
   "outputs": [
    {
     "name": "stdout",
     "output_type": "stream",
     "text": [
      "Test Nodule: 1709\n",
      "Test Non-Nodule: 2500\n"
     ]
    }
   ],
   "source": [
    "print(\"Test Nodule:\",len(os.listdir(\"FPRDataset/test/nodule\")))\n",
    "print(\"Test Non-Nodule:\",len(os.listdir(\"FPRDataset/test/non-nodule\")))"
   ]
  },
  {
   "cell_type": "code",
   "execution_count": 15,
   "metadata": {
    "colab": {
     "base_uri": "https://localhost:8080/"
    },
    "id": "fV6A4rfhJvZM",
    "outputId": "92f75e74-314e-4236-b6ee-8fbbaf27732d"
   },
   "outputs": [
    {
     "name": "stdout",
     "output_type": "stream",
     "text": [
      "Found 12626 images belonging to 2 classes.\n",
      "Found 4209 images belonging to 2 classes.\n"
     ]
    }
   ],
   "source": [
    "BATCH_SIZE = 96\n",
    "generator = ImageDataGenerator(rescale=1./255)\n",
    "\n",
    "trainData = generator.flow_from_directory(\n",
    "    \"FPRDataset/train\",\n",
    "    target_size=(50,50),\n",
    "    batch_size=BATCH_SIZE,\n",
    "    color_mode='grayscale',\n",
    "    class_mode='binary',\n",
    "    shuffle = False\n",
    ")\n",
    "\n",
    "testData = generator.flow_from_directory(\n",
    "    \"FPRDataset/test\",\n",
    "    target_size=(50,50),\n",
    "    batch_size=BATCH_SIZE,\n",
    "    color_mode='grayscale',\n",
    "    class_mode='binary',\n",
    "    shuffle = False\n",
    ")"
   ]
  },
  {
   "cell_type": "code",
   "execution_count": 16,
   "metadata": {
    "colab": {
     "base_uri": "https://localhost:8080/"
    },
    "id": "P4rDbmkJRG1Z",
    "outputId": "890fca04-6caf-4186-93cb-6d7a03f75846"
   },
   "outputs": [
    {
     "name": "stdout",
     "output_type": "stream",
     "text": [
      "{'nodule': 0, 'non-nodule': 1}\n",
      "{'nodule': 0, 'non-nodule': 1}\n"
     ]
    }
   ],
   "source": [
    "print(trainData.class_indices)\n",
    "print(testData.class_indices)"
   ]
  },
  {
   "cell_type": "code",
   "execution_count": 17,
   "metadata": {
    "colab": {
     "base_uri": "https://localhost:8080/"
    },
    "id": "AcmYF60ZFcOt",
    "outputId": "230376d0-a519-4210-aab6-d8ccbd3c67d6"
   },
   "outputs": [
    {
     "name": "stdout",
     "output_type": "stream",
     "text": [
      "Model: \"model_1\"\n",
      "_________________________________________________________________\n",
      " Layer (type)                Output Shape              Param #   \n",
      "=================================================================\n",
      " input_2 (InputLayer)        [(None, 50, 50, 1)]       0         \n",
      "                                                                 \n",
      " conv2d_3 (Conv2D)           (None, 48, 48, 50)        500       \n",
      "                                                                 \n",
      " max_pooling2d_2 (MaxPooling  (None, 24, 24, 50)       0         \n",
      " 2D)                                                             \n",
      "                                                                 \n",
      " conv2d_4 (Conv2D)           (None, 22, 22, 64)        28864     \n",
      "                                                                 \n",
      " conv2d_5 (Conv2D)           (None, 20, 20, 64)        36928     \n",
      "                                                                 \n",
      " max_pooling2d_3 (MaxPooling  (None, 10, 10, 64)       0         \n",
      " 2D)                                                             \n",
      "                                                                 \n",
      " flatten_1 (Flatten)         (None, 6400)              0         \n",
      "                                                                 \n",
      " dense_2 (Dense)             (None, 512)               3277312   \n",
      "                                                                 \n",
      " dropout_1 (Dropout)         (None, 512)               0         \n",
      "                                                                 \n",
      " dense_3 (Dense)             (None, 1)                 513       \n",
      "                                                                 \n",
      "=================================================================\n",
      "Total params: 3,344,117\n",
      "Trainable params: 3,344,117\n",
      "Non-trainable params: 0\n",
      "_________________________________________________________________\n"
     ]
    }
   ],
   "source": [
    "model = tf.keras.models.load_model(\"drive/MyDrive/Datasets/lc/FPR/Training_Logs/2nd_Trial/best_checkpoint_model.h5\")\n",
    "# model.compile(optimizer='adam', loss='binary_crossentropy', metrics=['accuracy'])\n",
    "\n",
    "model.summary()"
   ]
  },
  {
   "cell_type": "code",
   "execution_count": 18,
   "metadata": {
    "id": "eTrA3rIKccGD"
   },
   "outputs": [],
   "source": [
    "with tf.device(\"/device:GPU:0\"):\n",
    "  testPred = model.predict(testData)"
   ]
  },
  {
   "cell_type": "code",
   "execution_count": 19,
   "metadata": {
    "id": "ugwHh67KjQRq"
   },
   "outputs": [],
   "source": [
    "with tf.device(\"/device:GPU:0\"):\n",
    "  trainPred = model.predict(trainData)"
   ]
  },
  {
   "cell_type": "code",
   "execution_count": 20,
   "metadata": {
    "colab": {
     "base_uri": "https://localhost:8080/"
    },
    "id": "Mx6pvwGid0ye",
    "outputId": "9db1afd5-9167-4fad-fa0b-7b575c0603c8"
   },
   "outputs": [
    {
     "data": {
      "text/plain": [
       "array([[7.3395605e-04],\n",
       "       [2.2489522e-03],\n",
       "       [1.4850867e-01],\n",
       "       ...,\n",
       "       [9.9740124e-01],\n",
       "       [5.7495576e-01],\n",
       "       [9.5839179e-01]], dtype=float32)"
      ]
     },
     "execution_count": 20,
     "metadata": {},
     "output_type": "execute_result"
    }
   ],
   "source": [
    "testPred"
   ]
  },
  {
   "cell_type": "code",
   "execution_count": 21,
   "metadata": {
    "id": "WVia25xUd4pk"
   },
   "outputs": [],
   "source": [
    "test_y_true = testData.classes\n",
    "test_y_pred = np.array([int(x>=0.5) for x in testPred])"
   ]
  },
  {
   "cell_type": "code",
   "execution_count": 22,
   "metadata": {
    "id": "wUYwjQEjjhvn"
   },
   "outputs": [],
   "source": [
    "train_y_true = trainData.classes\n",
    "train_y_pred = np.array([int(x>=0.5) for x in trainPred])"
   ]
  },
  {
   "cell_type": "code",
   "execution_count": 29,
   "metadata": {
    "colab": {
     "base_uri": "https://localhost:8080/",
     "height": 297
    },
    "id": "1xkn47icfsrl",
    "outputId": "53e03887-710e-463b-e6e9-cf68b8d8725a"
   },
   "outputs": [
    {
     "data": {
      "text/plain": [
       "<sklearn.metrics._plot.confusion_matrix.ConfusionMatrixDisplay at 0x7f09e05e0690>"
      ]
     },
     "execution_count": 29,
     "metadata": {},
     "output_type": "execute_result"
    },
    {
     "data": {
      "image/png": "[encoded data removed]",
      "text/plain": [
       "<Figure size 432x288 with 2 Axes>"
      ]
     },
     "metadata": {
      "needs_background": "light"
     },
     "output_type": "display_data"
    }
   ],
   "source": [
    "ConfusionMatrixDisplay.from_predictions(test_y_true, test_y_pred, cmap='Blues')"
   ]
  },
  {
   "cell_type": "code",
   "execution_count": 30,
   "metadata": {
    "colab": {
     "base_uri": "https://localhost:8080/",
     "height": 297
    },
    "id": "YQUHt5lGhU-6",
    "outputId": "066133c4-67bc-47a9-c3bb-52f84e880357"
   },
   "outputs": [
    {
     "data": {
      "text/plain": [
       "<sklearn.metrics._plot.confusion_matrix.ConfusionMatrixDisplay at 0x7f0a4cdc3090>"
      ]
     },
     "execution_count": 30,
     "metadata": {},
     "output_type": "execute_result"
    },
    {
     "data": {
      "image/png": "[encoded data removed]",
      "text/plain": [
       "<Figure size 432x288 with 2 Axes>"
      ]
     },
     "metadata": {
      "needs_background": "light"
     },
     "output_type": "display_data"
    }
   ],
   "source": [
    "ConfusionMatrixDisplay.from_predictions(train_y_true, train_y_pred, cmap='Blues')"
   ]
  },
  {
   "cell_type": "code",
   "execution_count": null,
   "metadata": {
    "id": "oh2RKnBKkHBn"
   },
   "outputs": [],
   "source": []
  }
 ],
 "metadata": {
  "accelerator": "GPU",
  "colab": {
   "collapsed_sections": [],
   "name": "LC_FPR_CNN_Evaluation_v2.ipynb",
   "provenance": []
  },
  "kernelspec": {
   "display_name": "Python 3 (ipykernel)",
   "language": "python",
   "name": "python3"
  },
  "language_info": {
   "codemirror_mode": {
    "name": "ipython",
    "version": 3
   },
   "file_extension": ".py",
   "mimetype": "text/x-python",
   "name": "python",
   "nbconvert_exporter": "python",
   "pygments_lexer": "ipython3",
   "version": "3.9.9"
  }
 },
 "nbformat": 4,
 "nbformat_minor": 4
}
