{
 "cells": [
  {
   "cell_type": "markdown",
   "id": "e59dee5e",
   "metadata": {},
   "source": [
    "Importing Modules"
   ]
  },
  {
   "cell_type": "code",
   "execution_count": 1,
   "id": "03e706bd-afde-4ee3-968d-b9e4e4a7247e",
   "metadata": {},
   "outputs": [],
   "source": [
    "import random\n",
    "import os\n",
    "import shutil\n",
    "from tqdm import tqdm"
   ]
  },
  {
   "cell_type": "markdown",
   "id": "52211536",
   "metadata": {},
   "source": [
    "Paths for Source & Destination of Data"
   ]
  },
  {
   "cell_type": "code",
   "execution_count": 2,
   "id": "0671e79f-44d9-4495-9926-bb37bdf282b9",
   "metadata": {},
   "outputs": [],
   "source": [
    "root = \"../../FPRProcessedData/non-nodule-initial/\"\n",
    "target = \"../../FPRProcessedData/non-nodule/\""
   ]
  },
  {
   "cell_type": "markdown",
   "id": "e93a46bd",
   "metadata": {},
   "source": [
    "Getting list of filenames of non-nodules candidates images"
   ]
  },
  {
   "cell_type": "code",
   "execution_count": 3,
   "id": "c3ed99c1-3523-4a3d-a0e1-46d7b4e6ec73",
   "metadata": {},
   "outputs": [],
   "source": [
    "filelist = os.listdir(root)"
   ]
  },
  {
   "cell_type": "code",
   "execution_count": 4,
   "id": "455d377e-d860-4223-a70d-df016f8eb595",
   "metadata": {},
   "outputs": [
    {
     "data": {
      "text/plain": [
       "571895"
      ]
     },
     "execution_count": 4,
     "metadata": {},
     "output_type": "execute_result"
    }
   ],
   "source": [
    "len(filelist)"
   ]
  },
  {
   "cell_type": "code",
   "execution_count": 5,
   "id": "9cd0d54b-9101-4e86-880a-5c22b6073614",
   "metadata": {},
   "outputs": [
    {
     "data": {
      "text/plain": [
       "['candidate_0_0_102632.jpg',\n",
       " 'candidate_0_0_102633.jpg',\n",
       " 'candidate_0_0_102634.jpg',\n",
       " 'candidate_0_0_102635.jpg',\n",
       " 'candidate_0_0_102636.jpg',\n",
       " 'candidate_0_0_102637.jpg',\n",
       " 'candidate_0_0_102638.jpg',\n",
       " 'candidate_0_0_102639.jpg',\n",
       " 'candidate_0_0_102640.jpg',\n",
       " 'candidate_0_0_102641.jpg']"
      ]
     },
     "execution_count": 5,
     "metadata": {},
     "output_type": "execute_result"
    }
   ],
   "source": [
    "filelist[:10]"
   ]
  },
  {
   "cell_type": "code",
   "execution_count": 6,
   "id": "426fb572-e8a6-49d3-ae2a-1b4d7f442b7e",
   "metadata": {},
   "outputs": [],
   "source": [
    "random.shuffle(filelist)"
   ]
  },
  {
   "cell_type": "code",
   "execution_count": 7,
   "id": "af6fa389-7695-432f-9b54-efe754c1ad2a",
   "metadata": {},
   "outputs": [
    {
     "data": {
      "text/plain": [
       "['candidate_0_0_751259.jpg',\n",
       " 'candidate_7_0_233802.jpg',\n",
       " 'candidate_5_0_188045.jpg',\n",
       " 'candidate_0_0_307010.jpg',\n",
       " 'candidate_8_0_194190.jpg',\n",
       " 'candidate_2_0_246373.jpg',\n",
       " 'candidate_9_0_497029.jpg',\n",
       " 'candidate_6_0_437127.jpg',\n",
       " 'candidate_4_0_179758.jpg',\n",
       " 'candidate_2_0_344914.jpg']"
      ]
     },
     "execution_count": 7,
     "metadata": {},
     "output_type": "execute_result"
    }
   ],
   "source": [
    "filelist[:10]"
   ]
  },
  {
   "cell_type": "code",
   "execution_count": 8,
   "id": "3bfb7514-6cdc-4014-bce3-e3e7acd7c1bc",
   "metadata": {},
   "outputs": [
    {
     "name": "stderr",
     "output_type": "stream",
     "text": [
      "100%|████████████████████████████████████████████████████████████████████████████| 10000/10000 [02:04<00:00, 80.04it/s]\n"
     ]
    }
   ],
   "source": [
    "# Number of non nodule images is too high compared to the number of nodule images.\n",
    "# Therefore, we will use only 10000 non nodule images.\n",
    "finalfiles = filelist[:10000]\n",
    "for file in tqdm(finalfiles, total=10000):\n",
    "    s = root+file\n",
    "    d = target+file\n",
    "    shutil.copy(s,d)"
   ]
  },
  {
   "cell_type": "markdown",
   "id": "b3e208fa",
   "metadata": {},
   "source": [
    "Creating folders for storing train & test data"
   ]
  },
  {
   "cell_type": "code",
   "execution_count": 10,
   "id": "290a27a7-27c0-43a5-8fd5-e6ebd2f117e1",
   "metadata": {},
   "outputs": [],
   "source": [
    "os.chdir(\"../../\")\n",
    "os.mkdir(\"FPRDataset\")\n",
    "os.mkdir(\"FPRDataset/train\")\n",
    "os.mkdir(\"FPRDataset/train/nodule\")\n",
    "os.mkdir(\"FPRDataset/train/non-nodule\")\n",
    "os.mkdir(\"FPRDataset/test\")\n",
    "os.mkdir(\"FPRDataset/test/nodule\")\n",
    "os.mkdir(\"FPRDataset/test/non-nodule\")"
   ]
  },
  {
   "cell_type": "code",
   "execution_count": 23,
   "id": "9d87c29f-95b0-4265-b3d1-c4f0e3950fd4",
   "metadata": {},
   "outputs": [],
   "source": [
    "nodule_files = os.listdir(\"FPRProcessedData/nodule/\")\n",
    "non_nodule_files = os.listdir(\"FPRProcessedData/non-nodule/\")"
   ]
  },
  {
   "cell_type": "code",
   "execution_count": 24,
   "id": "80b433ca-a560-4977-8135-19eab706eaf4",
   "metadata": {},
   "outputs": [],
   "source": [
    "random.shuffle(nodule_files)\n",
    "random.shuffle(non_nodule_files)"
   ]
  },
  {
   "cell_type": "markdown",
   "id": "bf55d9cc",
   "metadata": {},
   "source": [
    "Splitting data into train-test sets with ratio 3:1"
   ]
  },
  {
   "cell_type": "code",
   "execution_count": 25,
   "id": "2d326272-d998-498e-9c6f-5abbc7d26811",
   "metadata": {},
   "outputs": [],
   "source": [
    "n = len(nodule_files)\n",
    "split = int(0.75*n)\n",
    "for i in nodule_files[:split]:\n",
    "    shutil.copy(f\"FPRProcessedData/nodule/{i}\", f\"FPRDataset/train/nodule/{i}\")\n",
    "for i in nodule_files[split:]:\n",
    "    shutil.copy(f\"FPRProcessedData/nodule/{i}\", f\"FPRDataset/test/nodule/{i}\")"
   ]
  },
  {
   "cell_type": "code",
   "execution_count": 26,
   "id": "72fb4609-92c4-4807-b74b-100c3e11932e",
   "metadata": {},
   "outputs": [],
   "source": [
    "n = len(non_nodule_files)\n",
    "split = int(0.75*n)\n",
    "for i in non_nodule_files[:split]:\n",
    "    shutil.copy(f\"FPRProcessedData/non-nodule/{i}\", f\"FPRDataset/train/non-nodule/{i}\")\n",
    "for i in non_nodule_files[split:]:\n",
    "    shutil.copy(f\"FPRProcessedData/non-nodule/{i}\", f\"FPRDataset/test/non-nodule/{i}\")"
   ]
  },
  {
   "cell_type": "code",
   "execution_count": null,
   "id": "1c893f89-0da7-4ea9-b8e9-9182d8ee2061",
   "metadata": {},
   "outputs": [],
   "source": []
  }
 ],
 "metadata": {
  "kernelspec": {
   "display_name": "Python 3 (ipykernel)",
   "language": "python",
   "name": "python3"
  },
  "language_info": {
   "codemirror_mode": {
    "name": "ipython",
    "version": 3
   },
   "file_extension": ".py",
   "mimetype": "text/x-python",
   "name": "python",
   "nbconvert_exporter": "python",
   "pygments_lexer": "ipython3",
   "version": "3.9.9"
  }
 },
 "nbformat": 4,
 "nbformat_minor": 5
}
