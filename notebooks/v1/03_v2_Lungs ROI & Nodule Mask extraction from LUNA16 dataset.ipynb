{
 "cells": [
  {
   "cell_type": "markdown",
   "id": "209eff6a",
   "metadata": {},
   "source": [
    "Importing Modules"
   ]
  },
  {
   "cell_type": "code",
   "execution_count": 1,
   "id": "80a52a50-b668-43da-9d8e-c4ff120d67eb",
   "metadata": {},
   "outputs": [],
   "source": [
    "import os\n",
    "import cv2\n",
    "import copy\n",
    "import numpy as np\n",
    "import pandas as pd\n",
    "from glob import glob\n",
    "from tqdm import tqdm\n",
    "\n",
    "import SimpleITK as stk\n",
    "import matplotlib.pyplot as plt\n",
    "\n",
    "from sklearn.cluster import KMeans\n",
    "from skimage import measure"
   ]
  },
  {
   "cell_type": "markdown",
   "id": "27edc00a",
   "metadata": {},
   "source": [
    "Paths for Source & Destination of Data"
   ]
  },
  {
   "cell_type": "code",
   "execution_count": 2,
   "id": "36a023e3-eb92-4f10-8647-b8e548a796bd",
   "metadata": {},
   "outputs": [],
   "source": [
    "root = \"../DATA/\"\n",
    "target_root = \"../ProcessedData/\""
   ]
  },
  {
   "cell_type": "markdown",
   "id": "570e2f54",
   "metadata": {},
   "source": [
    "Reading Subsets of Training Data & annotations.csv"
   ]
  },
  {
   "cell_type": "code",
   "execution_count": 3,
   "id": "0a7b0aab-353c-41da-83b0-61caed7215e0",
   "metadata": {},
   "outputs": [
    {
     "name": "stdout",
     "output_type": "stream",
     "text": [
      "Files Count: 88\n",
      "DF Count: 1186\n"
     ]
    },
    {
     "data": {
      "text/html": [
       "<div>\n",
       "<style scoped>\n",
       "    .dataframe tbody tr th:only-of-type {\n",
       "        vertical-align: middle;\n",
       "    }\n",
       "\n",
       "    .dataframe tbody tr th {\n",
       "        vertical-align: top;\n",
       "    }\n",
       "\n",
       "    .dataframe thead th {\n",
       "        text-align: right;\n",
       "    }\n",
       "</style>\n",
       "<table border=\"1\" class=\"dataframe\">\n",
       "  <thead>\n",
       "    <tr style=\"text-align: right;\">\n",
       "      <th></th>\n",
       "      <th>seriesuid</th>\n",
       "      <th>coordX</th>\n",
       "      <th>coordY</th>\n",
       "      <th>coordZ</th>\n",
       "      <th>diameter_mm</th>\n",
       "    </tr>\n",
       "  </thead>\n",
       "  <tbody>\n",
       "    <tr>\n",
       "      <th>0</th>\n",
       "      <td>1.3.6.1.4.1.14519.5.2.1.6279.6001.100225287222...</td>\n",
       "      <td>-128.699421</td>\n",
       "      <td>-175.319272</td>\n",
       "      <td>-298.387506</td>\n",
       "      <td>5.651471</td>\n",
       "    </tr>\n",
       "    <tr>\n",
       "      <th>1</th>\n",
       "      <td>1.3.6.1.4.1.14519.5.2.1.6279.6001.100225287222...</td>\n",
       "      <td>103.783651</td>\n",
       "      <td>-211.925149</td>\n",
       "      <td>-227.121250</td>\n",
       "      <td>4.224708</td>\n",
       "    </tr>\n",
       "    <tr>\n",
       "      <th>2</th>\n",
       "      <td>1.3.6.1.4.1.14519.5.2.1.6279.6001.100398138793...</td>\n",
       "      <td>69.639017</td>\n",
       "      <td>-140.944586</td>\n",
       "      <td>876.374496</td>\n",
       "      <td>5.786348</td>\n",
       "    </tr>\n",
       "    <tr>\n",
       "      <th>3</th>\n",
       "      <td>1.3.6.1.4.1.14519.5.2.1.6279.6001.100621383016...</td>\n",
       "      <td>-24.013824</td>\n",
       "      <td>192.102405</td>\n",
       "      <td>-391.081276</td>\n",
       "      <td>8.143262</td>\n",
       "    </tr>\n",
       "    <tr>\n",
       "      <th>4</th>\n",
       "      <td>1.3.6.1.4.1.14519.5.2.1.6279.6001.100621383016...</td>\n",
       "      <td>2.441547</td>\n",
       "      <td>172.464881</td>\n",
       "      <td>-405.493732</td>\n",
       "      <td>18.545150</td>\n",
       "    </tr>\n",
       "  </tbody>\n",
       "</table>\n",
       "</div>"
      ],
      "text/plain": [
       "                                           seriesuid      coordX      coordY  \\\n",
       "0  1.3.6.1.4.1.14519.5.2.1.6279.6001.100225287222... -128.699421 -175.319272   \n",
       "1  1.3.6.1.4.1.14519.5.2.1.6279.6001.100225287222...  103.783651 -211.925149   \n",
       "2  1.3.6.1.4.1.14519.5.2.1.6279.6001.100398138793...   69.639017 -140.944586   \n",
       "3  1.3.6.1.4.1.14519.5.2.1.6279.6001.100621383016...  -24.013824  192.102405   \n",
       "4  1.3.6.1.4.1.14519.5.2.1.6279.6001.100621383016...    2.441547  172.464881   \n",
       "\n",
       "       coordZ  diameter_mm  \n",
       "0 -298.387506     5.651471  \n",
       "1 -227.121250     4.224708  \n",
       "2  876.374496     5.786348  \n",
       "3 -391.081276     8.143262  \n",
       "4 -405.493732    18.545150  "
      ]
     },
     "execution_count": 3,
     "metadata": {},
     "output_type": "execute_result"
    }
   ],
   "source": [
    "subset = 9    # Ran for 0...9\n",
    "file_list = glob(root+f\"subset{subset}/*.mhd\")\n",
    "annotations_df = pd.read_csv(root+\"annotations.csv\")\n",
    "print(\"Files Count:\",len(file_list))\n",
    "print(\"DF Count:\",len(annotations_df))\n",
    "annotations_df.head()"
   ]
  },
  {
   "cell_type": "markdown",
   "id": "0cb95720",
   "metadata": {},
   "source": [
    "Distribution of nodules size (diameter)"
   ]
  },
  {
   "cell_type": "code",
   "execution_count": 4,
   "id": "a20340be-36de-4e50-ace2-4cc3cd4164ed",
   "metadata": {},
   "outputs": [
    {
     "data": {
      "text/plain": [
       "(array([15., 32., 55., 87., 94., 90., 79., 79., 75., 50., 51., 26., 41.,\n",
       "        29., 24., 27., 18., 25., 16., 15., 10., 18., 10.,  9., 14., 11.,\n",
       "        13.,  9.,  9.,  7., 10.,  7.,  6.,  8.,  3.,  8.,  5.,  7., 10.,\n",
       "         9.,  2.,  6.,  6.,  4.,  2.,  5.,  3.,  4.,  2.,  5.,  5.,  3.,\n",
       "         6.,  2.,  2.,  2.,  3.,  2.,  0.,  3.,  1.,  1.,  1.,  0.,  0.,\n",
       "         2.,  1.,  0.,  0.,  0.,  0.,  0.,  0.,  0.,  0.,  1.,  0.,  0.,\n",
       "         0.,  1.]),\n",
       " array([ 3.2534432 ,  3.61615053,  3.97885787,  4.34156521,  4.70427255,\n",
       "         5.06697989,  5.42968723,  5.79239456,  6.1551019 ,  6.51780924,\n",
       "         6.88051658,  7.24322392,  7.60593125,  7.96863859,  8.33134593,\n",
       "         8.69405327,  9.05676061,  9.41946794,  9.78217528, 10.14488262,\n",
       "        10.50758996, 10.8702973 , 11.23300464, 11.59571197, 11.95841931,\n",
       "        12.32112665, 12.68383399, 13.04654133, 13.40924866, 13.771956  ,\n",
       "        14.13466334, 14.49737068, 14.86007802, 15.22278536, 15.58549269,\n",
       "        15.94820003, 16.31090737, 16.67361471, 17.03632205, 17.39902938,\n",
       "        17.76173672, 18.12444406, 18.4871514 , 18.84985874, 19.21256608,\n",
       "        19.57527341, 19.93798075, 20.30068809, 20.66339543, 21.02610277,\n",
       "        21.3888101 , 21.75151744, 22.11422478, 22.47693212, 22.83963946,\n",
       "        23.2023468 , 23.56505413, 23.92776147, 24.29046881, 24.65317615,\n",
       "        25.01588349, 25.37859082, 25.74129816, 26.1040055 , 26.46671284,\n",
       "        26.82942018, 27.19212752, 27.55483485, 27.91754219, 28.28024953,\n",
       "        28.64295687, 29.00566421, 29.36837154, 29.73107888, 30.09378622,\n",
       "        30.45649356, 30.8192009 , 31.18190824, 31.54461557, 31.90732291,\n",
       "        32.27003025]),\n",
       " <BarContainer object of 80 artists>)"
      ]
     },
     "execution_count": 4,
     "metadata": {},
     "output_type": "execute_result"
    },
    {
     "data": {
      "image/png": "[encoded data removed]",
      "text/plain": [
       "<Figure size 432x288 with 1 Axes>"
      ]
     },
     "metadata": {
      "needs_background": "light"
     },
     "output_type": "display_data"
    }
   ],
   "source": [
    "d = annotations_df['diameter_mm'].values\n",
    "plt.hist(d, bins=80)"
   ]
  },
  {
   "cell_type": "markdown",
   "id": "e13cd714",
   "metadata": {},
   "source": [
    "Function to filter ctscan files that are in subset as well as in annotations.csv"
   ]
  },
  {
   "cell_type": "code",
   "execution_count": 5,
   "id": "10dd4418-4b56-4ac2-bbda-5a9c2e2589ef",
   "metadata": {},
   "outputs": [],
   "source": [
    "def get_filename(file_list, file):\n",
    "    for f in file_list:\n",
    "        if file in f:\n",
    "            return f"
   ]
  },
  {
   "cell_type": "code",
   "execution_count": 6,
   "id": "b98b71be-019e-4f4d-9166-a2374a0109e7",
   "metadata": {},
   "outputs": [
    {
     "name": "stdout",
     "output_type": "stream",
     "text": [
      "100\n"
     ]
    }
   ],
   "source": [
    "annotations_df[\"filename\"] = annotations_df[\"seriesuid\"].map(lambda file: get_filename(file_list, file))\n",
    "annotations_df = annotations_df.dropna()\n",
    "annotations_df = annotations_df[annotations_df['diameter_mm']>=3.9]     # Excluding nodules with diameter less than 3.9mm\n",
    "print(len(annotations_df))"
   ]
  },
  {
   "cell_type": "code",
   "execution_count": 7,
   "id": "795ee6e4-7545-4d86-93ad-27b44ad7c4c1",
   "metadata": {},
   "outputs": [
    {
     "data": {
      "text/html": [
       "<div>\n",
       "<style scoped>\n",
       "    .dataframe tbody tr th:only-of-type {\n",
       "        vertical-align: middle;\n",
       "    }\n",
       "\n",
       "    .dataframe tbody tr th {\n",
       "        vertical-align: top;\n",
       "    }\n",
       "\n",
       "    .dataframe thead th {\n",
       "        text-align: right;\n",
       "    }\n",
       "</style>\n",
       "<table border=\"1\" class=\"dataframe\">\n",
       "  <thead>\n",
       "    <tr style=\"text-align: right;\">\n",
       "      <th></th>\n",
       "      <th>seriesuid</th>\n",
       "      <th>coordX</th>\n",
       "      <th>coordY</th>\n",
       "      <th>coordZ</th>\n",
       "      <th>diameter_mm</th>\n",
       "      <th>filename</th>\n",
       "    </tr>\n",
       "  </thead>\n",
       "  <tbody>\n",
       "    <tr>\n",
       "      <th>8</th>\n",
       "      <td>1.3.6.1.4.1.14519.5.2.1.6279.6001.102681962408...</td>\n",
       "      <td>105.055792</td>\n",
       "      <td>19.825260</td>\n",
       "      <td>-91.247251</td>\n",
       "      <td>21.089619</td>\n",
       "      <td>../../DATA/subset9\\1.3.6.1.4.1.14519.5.2.1.627...</td>\n",
       "    </tr>\n",
       "    <tr>\n",
       "      <th>36</th>\n",
       "      <td>1.3.6.1.4.1.14519.5.2.1.6279.6001.112767175295...</td>\n",
       "      <td>-65.870136</td>\n",
       "      <td>50.730440</td>\n",
       "      <td>-90.803304</td>\n",
       "      <td>5.915845</td>\n",
       "      <td>../../DATA/subset9\\1.3.6.1.4.1.14519.5.2.1.627...</td>\n",
       "    </tr>\n",
       "    <tr>\n",
       "      <th>37</th>\n",
       "      <td>1.3.6.1.4.1.14519.5.2.1.6279.6001.112767175295...</td>\n",
       "      <td>-105.917119</td>\n",
       "      <td>-17.656588</td>\n",
       "      <td>-105.091752</td>\n",
       "      <td>5.484679</td>\n",
       "      <td>../../DATA/subset9\\1.3.6.1.4.1.14519.5.2.1.627...</td>\n",
       "    </tr>\n",
       "    <tr>\n",
       "      <th>38</th>\n",
       "      <td>1.3.6.1.4.1.14519.5.2.1.6279.6001.112767175295...</td>\n",
       "      <td>42.296133</td>\n",
       "      <td>56.151735</td>\n",
       "      <td>-84.661662</td>\n",
       "      <td>6.477966</td>\n",
       "      <td>../../DATA/subset9\\1.3.6.1.4.1.14519.5.2.1.627...</td>\n",
       "    </tr>\n",
       "    <tr>\n",
       "      <th>39</th>\n",
       "      <td>1.3.6.1.4.1.14519.5.2.1.6279.6001.112767175295...</td>\n",
       "      <td>-137.500567</td>\n",
       "      <td>-21.653604</td>\n",
       "      <td>-152.036638</td>\n",
       "      <td>4.362886</td>\n",
       "      <td>../../DATA/subset9\\1.3.6.1.4.1.14519.5.2.1.627...</td>\n",
       "    </tr>\n",
       "  </tbody>\n",
       "</table>\n",
       "</div>"
      ],
      "text/plain": [
       "                                            seriesuid      coordX     coordY  \\\n",
       "8   1.3.6.1.4.1.14519.5.2.1.6279.6001.102681962408...  105.055792  19.825260   \n",
       "36  1.3.6.1.4.1.14519.5.2.1.6279.6001.112767175295...  -65.870136  50.730440   \n",
       "37  1.3.6.1.4.1.14519.5.2.1.6279.6001.112767175295... -105.917119 -17.656588   \n",
       "38  1.3.6.1.4.1.14519.5.2.1.6279.6001.112767175295...   42.296133  56.151735   \n",
       "39  1.3.6.1.4.1.14519.5.2.1.6279.6001.112767175295... -137.500567 -21.653604   \n",
       "\n",
       "        coordZ  diameter_mm                                           filename  \n",
       "8   -91.247251    21.089619  ../../DATA/subset9\\1.3.6.1.4.1.14519.5.2.1.627...  \n",
       "36  -90.803304     5.915845  ../../DATA/subset9\\1.3.6.1.4.1.14519.5.2.1.627...  \n",
       "37 -105.091752     5.484679  ../../DATA/subset9\\1.3.6.1.4.1.14519.5.2.1.627...  \n",
       "38  -84.661662     6.477966  ../../DATA/subset9\\1.3.6.1.4.1.14519.5.2.1.627...  \n",
       "39 -152.036638     4.362886  ../../DATA/subset9\\1.3.6.1.4.1.14519.5.2.1.627...  "
      ]
     },
     "execution_count": 7,
     "metadata": {},
     "output_type": "execute_result"
    }
   ],
   "source": [
    "annotations_df.head()"
   ]
  },
  {
   "cell_type": "markdown",
   "id": "ca13e180",
   "metadata": {},
   "source": [
    "Function to load mhd files"
   ]
  },
  {
   "cell_type": "code",
   "execution_count": 8,
   "id": "2bc4a18c-e3ba-4ce8-8dc4-cb9c10cda1a8",
   "metadata": {},
   "outputs": [],
   "source": [
    "def load_mhd(file):\n",
    "    mhdimage = stk.ReadImage(file)\n",
    "    ct_scan = stk.GetArrayFromImage(mhdimage)\n",
    "    origin = np.array(list(mhdimage.GetOrigin()))\n",
    "    space = np.array(list(mhdimage.GetSpacing()))\n",
    "    return ct_scan, origin, space"
   ]
  },
  {
   "cell_type": "code",
   "execution_count": 9,
   "id": "ab42c314-b0ae-4f84-bd6a-4d387c642175",
   "metadata": {},
   "outputs": [],
   "source": [
    "def make_mask(img, center, diam):\n",
    "    mask = np.zeros_like(img, dtype=np.uint8)\n",
    "    mask = cv2.circle(mask, (abs(int(center[0])),abs(int(center[1]))), abs(diam//2), 255, -1)\n",
    "    return mask"
   ]
  },
  {
   "cell_type": "code",
   "execution_count": 10,
   "id": "2629ae4c-67d1-492a-95c9-6235f2b14f00",
   "metadata": {},
   "outputs": [
    {
     "name": "stderr",
     "output_type": "stream",
     "text": [
      "57it [01:08,  1.20s/it]\n"
     ]
    }
   ],
   "source": [
    "clahe = cv2.createCLAHE(clipLimit=2.0, tileGridSize=(8,8))  # CLAHE(Contrast Limited Adaptive Histogram Equalization) filter for enhancing the contrast of an image\n",
    "\n",
    "# Iterating over all the files in the subset\n",
    "for i,file in tqdm(enumerate(np.unique(annotations_df['filename'].values))):\n",
    "    annotations = annotations_df[annotations_df[\"filename\"]==file]\n",
    "    ct, origin, space = load_mhd(file)      # Loading the CT scan\n",
    "    num_z, height, width = ct.shape\n",
    "    ct_norm = cv2.normalize(ct, None, 0, 255, cv2.NORM_MINMAX)   # Normalizing the CT scan\n",
    "    for idx, row in annotations.iterrows():\n",
    "        node_x = int(row[\"coordX\"])     # X coordinate of the nodule\n",
    "        node_y = int(row[\"coordY\"])     # Y coordinate of the nodule\n",
    "        node_z = int(row[\"coordZ\"])     # Z coordinate of the nodule\n",
    "        diam = int(row[\"diameter_mm\"])  # Diameter of the nodule\n",
    "\n",
    "        center = np.array([node_x, node_y, node_z])   # nodule center (x,y,z)\n",
    "        v_center = np.rint((center-origin)/space)   # nodule center in voxel space (still x,y,z ordering)\n",
    "\n",
    "        img_norm = ct_norm[int(v_center[2]),:,:]    # a slice of the CT scan containing the nodule\n",
    "        img_norm = cv2.resize(img_norm, (512,512))  # Resizing the CT scan to 512x512\n",
    "        img_norm_improved = clahe.apply(img_norm.astype(np.uint8))  # Applying CLAHE filter to the image\n",
    "\n",
    "        ################################################################################################\n",
    "        v_diam = int(diam/space[0])+5       # Diameter of the nodule in voxel space\n",
    "        mask = make_mask(img_norm, v_center, v_diam)    # Creating a mask of the nodule\n",
    "        if v_diam>18:       # If the nodule is too big, we will also take neighboring slices\n",
    "            img_norm2 = ct_norm[(int(v_center[2])-1),:,:]\n",
    "            img_norm2 = cv2.resize(img_norm2, (512,512))\n",
    "            img_norm2_improved = clahe.apply(img_norm2.astype(np.uint8))\n",
    "            mask2 = make_mask(img_norm2, v_center, v_diam-1)\n",
    "            \n",
    "            img_norm3 = ct_norm[(int(v_center[2])+1),:,:]\n",
    "            img_norm3 = cv2.resize(img_norm3, (512,512))\n",
    "            img_norm3_improved = clahe.apply(img_norm3.astype(np.uint8))\n",
    "            mask3 = make_mask(img_norm3, v_center, v_diam-1)\n",
    "            \n",
    "            \n",
    "        # Calculating the threshold value for extracting the nodule mask using binary thresholding\n",
    "        mask = cv2.bitwise_and(img_norm, img_norm, mask=cv2.dilate(mask,kernel=np.ones((5,5))))\n",
    "        pts = mask[mask>0]\n",
    "        kmeans2 = KMeans(n_clusters=2).fit(np.reshape(pts,(len(pts),1)))\n",
    "        centroids2 = sorted(kmeans2.cluster_centers_.flatten())\n",
    "        threshold2 = np.mean(centroids2)\n",
    "        \n",
    "        _, mask = cv2.threshold(mask, threshold2, 255, cv2.THRESH_BINARY)\n",
    "        if v_diam>18:\n",
    "            mask2 = cv2.bitwise_and(img_norm2, img_norm2, mask=cv2.dilate(mask2,kernel=np.ones((5,5))))\n",
    "            _, mask2 = cv2.threshold(mask2, threshold2, 255, cv2.THRESH_BINARY)\n",
    "            \n",
    "            mask3 = cv2.bitwise_and(img_norm3, img_norm3, mask=cv2.dilate(mask3,kernel=np.ones((5,5))))\n",
    "            _, mask3 = cv2.threshold(mask3, threshold2, 255, cv2.THRESH_BINARY)\n",
    "        ################################################################################################\n",
    "        \n",
    "        # Calculating the threshold value to segment the lungs from CT scan slices using binary thresholding\n",
    "        centeral_area = img_norm[100:400, 100:400]\n",
    "        kmeans = KMeans(n_clusters=2).fit(np.reshape(centeral_area, [np.prod(centeral_area.shape), 1]))\n",
    "        centroids = sorted(kmeans.cluster_centers_.flatten())\n",
    "        threshold = np.mean(centroids)\n",
    "        \n",
    "        # Steps to segment the lungs from CT scan slices\n",
    "        ret, lung_roi = cv2.threshold(img_norm, threshold, 255, cv2.THRESH_BINARY_INV)\n",
    "        lung_roi = cv2.erode(lung_roi, kernel=np.ones([4,4]))\n",
    "        lung_roi = cv2.dilate(lung_roi, kernel=np.ones([13,13]))\n",
    "        lung_roi = cv2.erode(lung_roi, kernel=np.ones([8,8]))\n",
    "\n",
    "        labels = measure.label(lung_roi)        # Labelling different regions in the image\n",
    "        regions = measure.regionprops(labels)   # Extracting the properties of the regions\n",
    "        good_labels = []\n",
    "        for prop in regions:        # Filtering the regions that are not too close to the edges\n",
    "            B = prop.bbox           # Regions that are too close to the edges are outside regions of lungs\n",
    "            if B[2]-B[0] < 475 and B[3]-B[1] < 475 and B[0] > 40 and B[2] < 472:\n",
    "                good_labels.append(prop.label)\n",
    "        lung_roi_mask = np.zeros_like(labels)\n",
    "        for N in good_labels:\n",
    "            lung_roi_mask = lung_roi_mask + np.where(labels == N, 1, 0)\n",
    "\n",
    "        # Steps to get proper segmentation of the lungs without noise and holes\n",
    "        contours, hirearchy = cv2.findContours(lung_roi_mask,cv2.RETR_CCOMP,cv2.CHAIN_APPROX_SIMPLE)\n",
    "        external_contours = np.zeros(lung_roi_mask.shape)\n",
    "        for i in range(len(contours)):\n",
    "            if hirearchy[0][i][3] == -1:  #External Contours\n",
    "                area = cv2.contourArea(contours[i])\n",
    "                if area>518.0:\n",
    "                    cv2.drawContours(external_contours,contours,i,(1,1,1),-1)\n",
    "        external_contours = cv2.dilate(external_contours, kernel=np.ones([4,4]))\n",
    "        \n",
    "        external_contours = cv2.bitwise_not(external_contours.astype(np.uint8))\n",
    "        external_contours = cv2.erode(external_contours, kernel=np.ones((7,7)))\n",
    "        external_contours = cv2.bitwise_not(external_contours)\n",
    "        external_contours = cv2.dilate(external_contours, kernel=np.ones((12,12)))\n",
    "        external_contours = cv2.erode(external_contours, kernel=np.ones((12,12)))\n",
    "        \n",
    "        img_norm_improved = img_norm_improved.astype(np.uint8)\n",
    "        external_contours = external_contours.astype(np.uint8)      # Final segmentated lungs mask\n",
    "        extracted_lungs = cv2.bitwise_and(img_norm_improved, img_norm_improved, mask=external_contours)\n",
    "        \n",
    "        #################################################################################################\n",
    "        if v_diam>18:\n",
    "            img_norm2_improved = img_norm2_improved.astype(np.uint8)\n",
    "            extracted_lungs2 = cv2.bitwise_and(img_norm2_improved, img_norm2_improved, mask=external_contours)\n",
    "            mask2 = mask2.astype(np.uint8)\n",
    "            np.save(os.path.join(target_root+\"nodule_mask/\", f\"masks_{subset}_{i}_{idx}_2.npy\"), mask2)\n",
    "            np.save(os.path.join(target_root+\"lungs_roi/\", f\"lungs_{subset}_{i}_{idx}_2.npy\"), extracted_lungs2)\n",
    "            \n",
    "            img_norm3_improved = img_norm3_improved.astype(np.uint8)\n",
    "            extracted_lungs3 = cv2.bitwise_and(img_norm3_improved, img_norm3_improved, mask=external_contours)\n",
    "            mask3 = mask3.astype(np.uint8)\n",
    "            np.save(os.path.join(target_root+\"nodule_mask/\", f\"masks_{subset}_{i}_{idx}_3.npy\"), mask3)\n",
    "            np.save(os.path.join(target_root+\"lungs_roi/\", f\"lungs_{subset}_{i}_{idx}_3.npy\"), extracted_lungs3)\n",
    "        #################################################################################################\n",
    "        \n",
    "        mask = mask.astype(np.uint8)\n",
    "        \n",
    "        np.save(os.path.join(target_root+\"nodule_mask/\", f\"masks_{subset}_{i}_{idx}.npy\"), mask)\n",
    "        np.save(os.path.join(target_root+\"lungs_roi/\", f\"lungs_{subset}_{i}_{idx}.npy\"), extracted_lungs)"
   ]
  },
  {
   "cell_type": "code",
   "execution_count": null,
   "id": "29229d45-b652-4987-903d-137c8ca19616",
   "metadata": {},
   "outputs": [],
   "source": []
  }
 ],
 "metadata": {
  "kernelspec": {
   "display_name": "Python 3 (ipykernel)",
   "language": "python",
   "name": "python3"
  },
  "language_info": {
   "codemirror_mode": {
    "name": "ipython",
    "version": 3
   },
   "file_extension": ".py",
   "mimetype": "text/x-python",
   "name": "python",
   "nbconvert_exporter": "python",
   "pygments_lexer": "ipython3",
   "version": "3.9.9"
  }
 },
 "nbformat": 4,
 "nbformat_minor": 5
}
