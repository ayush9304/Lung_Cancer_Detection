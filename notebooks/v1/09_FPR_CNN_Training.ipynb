{
  "cells": [
    {
      "cell_type": "markdown",
      "metadata": {},
      "source": [
        "Importing Modules"
      ]
    },
    {
      "cell_type": "code",
      "execution_count": 1,
      "metadata": {
        "id": "K76aC1eJEBOv"
      },
      "outputs": [],
      "source": [
        "import os\n",
        "import numpy as np\n",
        "import tensorflow as tf\n",
        "import matplotlib.pyplot as plt\n",
        "from tensorflow.keras.layers import Conv2D, MaxPool2D, Dense, Dropout, Input, Flatten\n",
        "from tensorflow.keras.models import Model\n",
        "from tensorflow.keras.callbacks import ModelCheckpoint\n",
        "from tensorflow.keras.preprocessing.image import ImageDataGenerator\n",
        "from IPython.display import clear_output"
      ]
    },
    {
      "cell_type": "markdown",
      "metadata": {},
      "source": [
        "Mounting Google Drive to access Training Data"
      ]
    },
    {
      "cell_type": "code",
      "execution_count": 2,
      "metadata": {
        "colab": {
          "base_uri": "https://localhost:8080/"
        },
        "id": "e3atHEsuEmS2",
        "outputId": "11aeb4c0-4dac-4b91-d84d-7fffa3617923"
      },
      "outputs": [
        {
          "name": "stdout",
          "output_type": "stream",
          "text": [
            "Mounted at drive\n"
          ]
        }
      ],
      "source": [
        "from google.colab import drive\n",
        "drive.mount(\"drive\")"
      ]
    },
    {
      "cell_type": "markdown",
      "metadata": {},
      "source": [
        "Unzip Data"
      ]
    },
    {
      "cell_type": "code",
      "execution_count": 3,
      "metadata": {
        "id": "NYoeR4oZE4lq"
      },
      "outputs": [],
      "source": [
        "!unzip drive/MyDrive/Datasets/lc/FPR/FPRDataset.zip\n",
        "clear_output()"
      ]
    },
    {
      "cell_type": "code",
      "execution_count": 4,
      "metadata": {
        "colab": {
          "base_uri": "https://localhost:8080/"
        },
        "id": "8QT8hg3IFM1F",
        "outputId": "c11584d8-c151-4441-f433-32ed586ad0d9"
      },
      "outputs": [
        {
          "name": "stdout",
          "output_type": "stream",
          "text": [
            "Train Nodule: 5126\n",
            "Train Non-Nodule: 7500\n",
            "Test Nodule: 1709\n",
            "Test Non-Nodule: 2500\n"
          ]
        }
      ],
      "source": [
        "print(\"Train Nodule:\",len(os.listdir(\"FPRDataset/train/nodule\")))\n",
        "print(\"Train Non-Nodule:\",len(os.listdir(\"FPRDataset/train/non-nodule\")))\n",
        "print(\"Test Nodule:\",len(os.listdir(\"FPRDataset/test/nodule\")))\n",
        "print(\"Test Non-Nodule:\",len(os.listdir(\"FPRDataset/test/non-nodule\")))"
      ]
    },
    {
      "cell_type": "markdown",
      "metadata": {},
      "source": [
        "Creating train & test data generators"
      ]
    },
    {
      "cell_type": "code",
      "execution_count": 5,
      "metadata": {
        "colab": {
          "base_uri": "https://localhost:8080/"
        },
        "id": "fV6A4rfhJvZM",
        "outputId": "1e6c043c-cd6e-41e5-9691-73bef5585d5c"
      },
      "outputs": [
        {
          "name": "stdout",
          "output_type": "stream",
          "text": [
            "Found 12626 images belonging to 2 classes.\n",
            "Found 4209 images belonging to 2 classes.\n"
          ]
        }
      ],
      "source": [
        "BATCH_SIZE = 96\n",
        "generator = ImageDataGenerator(rescale=1./255)\n",
        "trainData = generator.flow_from_directory(\n",
        "    \"FPRDataset/train\",\n",
        "    target_size=(50,50),\n",
        "    batch_size=BATCH_SIZE,\n",
        "    color_mode='grayscale',\n",
        "    class_mode='binary'\n",
        ")\n",
        "testData = generator.flow_from_directory(\n",
        "    \"FPRDataset/test\",\n",
        "    target_size=(50,50),\n",
        "    batch_size=BATCH_SIZE,\n",
        "    color_mode='grayscale',\n",
        "    class_mode='binary'\n",
        ")"
      ]
    },
    {
      "cell_type": "code",
      "execution_count": 6,
      "metadata": {
        "colab": {
          "base_uri": "https://localhost:8080/"
        },
        "id": "P4rDbmkJRG1Z",
        "outputId": "575d25dd-22c7-401e-f45b-e088f81c2b9c"
      },
      "outputs": [
        {
          "name": "stdout",
          "output_type": "stream",
          "text": [
            "{'nodule': 0, 'non-nodule': 1}\n",
            "{'nodule': 0, 'non-nodule': 1}\n"
          ]
        }
      ],
      "source": [
        "print(trainData.class_indices)\n",
        "print(testData.class_indices)"
      ]
    },
    {
      "cell_type": "markdown",
      "metadata": {},
      "source": [
        "Callback function for training"
      ]
    },
    {
      "cell_type": "code",
      "execution_count": 7,
      "metadata": {
        "id": "KT29f1y_XUoo"
      },
      "outputs": [],
      "source": [
        "weight_path=\"checkpoint-{epoch:03d}-{val_loss:.3f}.hdf5\"\n",
        "modelcheckpoint = ModelCheckpoint(weight_path, monitor='val_loss', verbose=1, save_best_only=True, save_weights_only=True, mode='min')"
      ]
    },
    {
      "cell_type": "markdown",
      "metadata": {},
      "source": [
        "Defining & creating CNN model"
      ]
    },
    {
      "cell_type": "code",
      "execution_count": 10,
      "metadata": {
        "colab": {
          "base_uri": "https://localhost:8080/"
        },
        "id": "AcmYF60ZFcOt",
        "outputId": "dd3d8fc0-dd0b-4f76-cc19-3092e56d0ce9"
      },
      "outputs": [
        {
          "name": "stdout",
          "output_type": "stream",
          "text": [
            "Model: \"model\"\n",
            "_________________________________________________________________\n",
            " Layer (type)                Output Shape              Param #   \n",
            "=================================================================\n",
            " input_1 (InputLayer)        [(None, 50, 50, 1)]       0         \n",
            "                                                                 \n",
            " conv2d (Conv2D)             (None, 48, 48, 50)        500       \n",
            "                                                                 \n",
            " max_pooling2d (MaxPooling2D  (None, 24, 24, 50)       0         \n",
            " )                                                               \n",
            "                                                                 \n",
            " conv2d_1 (Conv2D)           (None, 22, 22, 64)        28864     \n",
            "                                                                 \n",
            " conv2d_2 (Conv2D)           (None, 20, 20, 64)        36928     \n",
            "                                                                 \n",
            " max_pooling2d_1 (MaxPooling  (None, 10, 10, 64)       0         \n",
            " 2D)                                                             \n",
            "                                                                 \n",
            " flatten (Flatten)           (None, 6400)              0         \n",
            "                                                                 \n",
            " dense (Dense)               (None, 512)               3277312   \n",
            "                                                                 \n",
            " dropout (Dropout)           (None, 512)               0         \n",
            "                                                                 \n",
            " dense_1 (Dense)             (None, 1)                 513       \n",
            "                                                                 \n",
            "=================================================================\n",
            "Total params: 3,344,117\n",
            "Trainable params: 3,344,117\n",
            "Non-trainable params: 0\n",
            "_________________________________________________________________\n"
          ]
        }
      ],
      "source": [
        "def get_model():\n",
        "  input = Input(shape=(50,50,1))\n",
        "  x = Conv2D(50, (3,3), activation='relu')(input)\n",
        "  x = MaxPool2D((2,2))(x)\n",
        "  x = Conv2D(64, (3,3), activation='relu')(x)\n",
        "  x = Conv2D(64, (3,3), activation='relu')(x)\n",
        "  x = MaxPool2D((2,2))(x)\n",
        "  x = Flatten()(x)\n",
        "  x = Dense(512, activation='relu')(x)\n",
        "  x = Dropout(0.4)(x)\n",
        "  x = Dense(1, activation='sigmoid')(x)\n",
        "\n",
        "  model = Model(inputs=[input], outputs=[x])\n",
        "  return model\n",
        "\n",
        "model = get_model()\n",
        "model.compile(optimizer='adam', loss='binary_crossentropy', metrics=['accuracy'])\n",
        "\n",
        "model.summary()"
      ]
    },
    {
      "cell_type": "markdown",
      "metadata": {},
      "source": [
        "Train model"
      ]
    },
    {
      "cell_type": "code",
      "execution_count": 11,
      "metadata": {
        "colab": {
          "base_uri": "https://localhost:8080/"
        },
        "id": "TEAm4NkkIupj",
        "outputId": "4fb72774-e344-4ea1-c97f-5aab5a7340d6"
      },
      "outputs": [
        {
          "name": "stderr",
          "output_type": "stream",
          "text": [
            "/usr/local/lib/python3.7/dist-packages/ipykernel_launcher.py:7: UserWarning: `Model.fit_generator` is deprecated and will be removed in a future version. Please use `Model.fit`, which supports generators.\n",
            "  import sys\n"
          ]
        },
        {
          "name": "stdout",
          "output_type": "stream",
          "text": [
            "Epoch 1/20\n",
            "131/132 [============================>.] - ETA: 0s - loss: 0.5780 - accuracy: 0.7004\n",
            "Epoch 00001: val_loss improved from inf to 0.47552, saving model to checkpoint-001-0.476.hdf5\n",
            "132/132 [==============================] - 18s 60ms/step - loss: 0.5768 - accuracy: 0.7011 - val_loss: 0.4755 - val_accuracy: 0.7921\n",
            "Epoch 2/20\n",
            "132/132 [==============================] - ETA: 0s - loss: 0.4347 - accuracy: 0.8067\n",
            "Epoch 00002: val_loss improved from 0.47552 to 0.36448, saving model to checkpoint-002-0.364.hdf5\n",
            "132/132 [==============================] - 7s 55ms/step - loss: 0.4347 - accuracy: 0.8067 - val_loss: 0.3645 - val_accuracy: 0.8494\n",
            "Epoch 3/20\n",
            "132/132 [==============================] - ETA: 0s - loss: 0.3511 - accuracy: 0.8519\n",
            "Epoch 00003: val_loss improved from 0.36448 to 0.34649, saving model to checkpoint-003-0.346.hdf5\n",
            "132/132 [==============================] - 7s 55ms/step - loss: 0.3511 - accuracy: 0.8519 - val_loss: 0.3465 - val_accuracy: 0.8579\n",
            "Epoch 4/20\n",
            "132/132 [==============================] - ETA: 0s - loss: 0.3084 - accuracy: 0.8753\n",
            "Epoch 00004: val_loss improved from 0.34649 to 0.29858, saving model to checkpoint-004-0.299.hdf5\n",
            "132/132 [==============================] - 7s 55ms/step - loss: 0.3084 - accuracy: 0.8753 - val_loss: 0.2986 - val_accuracy: 0.8822\n",
            "Epoch 5/20\n",
            "131/132 [============================>.] - ETA: 0s - loss: 0.2721 - accuracy: 0.8906\n",
            "Epoch 00005: val_loss improved from 0.29858 to 0.29824, saving model to checkpoint-005-0.298.hdf5\n",
            "132/132 [==============================] - 7s 55ms/step - loss: 0.2720 - accuracy: 0.8906 - val_loss: 0.2982 - val_accuracy: 0.8803\n",
            "Epoch 6/20\n",
            "131/132 [============================>.] - ETA: 0s - loss: 0.2393 - accuracy: 0.9084\n",
            "Epoch 00006: val_loss improved from 0.29824 to 0.27413, saving model to checkpoint-006-0.274.hdf5\n",
            "132/132 [==============================] - 7s 56ms/step - loss: 0.2386 - accuracy: 0.9087 - val_loss: 0.2741 - val_accuracy: 0.8914\n",
            "Epoch 7/20\n",
            "132/132 [==============================] - ETA: 0s - loss: 0.2080 - accuracy: 0.9172\n",
            "Epoch 00007: val_loss improved from 0.27413 to 0.27080, saving model to checkpoint-007-0.271.hdf5\n",
            "132/132 [==============================] - 7s 56ms/step - loss: 0.2080 - accuracy: 0.9172 - val_loss: 0.2708 - val_accuracy: 0.9038\n",
            "Epoch 8/20\n",
            "132/132 [==============================] - ETA: 0s - loss: 0.1867 - accuracy: 0.9265\n",
            "Epoch 00008: val_loss improved from 0.27080 to 0.25744, saving model to checkpoint-008-0.257.hdf5\n",
            "132/132 [==============================] - 7s 55ms/step - loss: 0.1867 - accuracy: 0.9265 - val_loss: 0.2574 - val_accuracy: 0.9000\n",
            "Epoch 9/20\n",
            "132/132 [==============================] - ETA: 0s - loss: 0.1704 - accuracy: 0.9360\n",
            "Epoch 00009: val_loss did not improve from 0.25744\n",
            "132/132 [==============================] - 7s 55ms/step - loss: 0.1704 - accuracy: 0.9360 - val_loss: 0.2763 - val_accuracy: 0.8959\n",
            "Epoch 10/20\n",
            "131/132 [============================>.] - ETA: 0s - loss: 0.1461 - accuracy: 0.9441\n",
            "Epoch 00010: val_loss did not improve from 0.25744\n",
            "132/132 [==============================] - 7s 56ms/step - loss: 0.1466 - accuracy: 0.9438 - val_loss: 0.2659 - val_accuracy: 0.9035\n",
            "Epoch 11/20\n",
            "132/132 [==============================] - ETA: 0s - loss: 0.1257 - accuracy: 0.9529\n",
            "Epoch 00011: val_loss did not improve from 0.25744\n",
            "132/132 [==============================] - 7s 55ms/step - loss: 0.1257 - accuracy: 0.9529 - val_loss: 0.2780 - val_accuracy: 0.8997\n",
            "Epoch 12/20\n",
            "132/132 [==============================] - ETA: 0s - loss: 0.1084 - accuracy: 0.9598\n",
            "Epoch 00012: val_loss did not improve from 0.25744\n",
            "132/132 [==============================] - 7s 56ms/step - loss: 0.1084 - accuracy: 0.9598 - val_loss: 0.3167 - val_accuracy: 0.9005\n",
            "Epoch 13/20\n",
            "131/132 [============================>.] - ETA: 0s - loss: 0.0900 - accuracy: 0.9680\n",
            "Epoch 00013: val_loss did not improve from 0.25744\n",
            "132/132 [==============================] - 7s 55ms/step - loss: 0.0897 - accuracy: 0.9680 - val_loss: 0.3243 - val_accuracy: 0.8964\n",
            "Epoch 14/20\n",
            "132/132 [==============================] - ETA: 0s - loss: 0.0831 - accuracy: 0.9700\n",
            "Epoch 00014: val_loss did not improve from 0.25744\n",
            "132/132 [==============================] - 7s 55ms/step - loss: 0.0831 - accuracy: 0.9700 - val_loss: 0.3306 - val_accuracy: 0.8993\n",
            "Epoch 15/20\n",
            "131/132 [============================>.] - ETA: 0s - loss: 0.0672 - accuracy: 0.9769\n",
            "Epoch 00015: val_loss did not improve from 0.25744\n",
            "132/132 [==============================] - 7s 55ms/step - loss: 0.0672 - accuracy: 0.9770 - val_loss: 0.3344 - val_accuracy: 0.8997\n",
            "Epoch 16/20\n",
            "132/132 [==============================] - ETA: 0s - loss: 0.0588 - accuracy: 0.9780\n",
            "Epoch 00016: val_loss did not improve from 0.25744\n",
            "132/132 [==============================] - 7s 55ms/step - loss: 0.0588 - accuracy: 0.9780 - val_loss: 0.3602 - val_accuracy: 0.8995\n",
            "Epoch 17/20\n",
            "132/132 [==============================] - ETA: 0s - loss: 0.0467 - accuracy: 0.9831\n",
            "Epoch 00017: val_loss did not improve from 0.25744\n",
            "132/132 [==============================] - 7s 55ms/step - loss: 0.0467 - accuracy: 0.9831 - val_loss: 0.3910 - val_accuracy: 0.8995\n",
            "Epoch 18/20\n",
            "132/132 [==============================] - ETA: 0s - loss: 0.0394 - accuracy: 0.9865\n",
            "Epoch 00018: val_loss did not improve from 0.25744\n",
            "132/132 [==============================] - 7s 55ms/step - loss: 0.0394 - accuracy: 0.9865 - val_loss: 0.4579 - val_accuracy: 0.8940\n",
            "Epoch 19/20\n",
            "131/132 [============================>.] - ETA: 0s - loss: 0.0392 - accuracy: 0.9860\n",
            "Epoch 00019: val_loss did not improve from 0.25744\n",
            "132/132 [==============================] - 7s 55ms/step - loss: 0.0395 - accuracy: 0.9859 - val_loss: 0.4643 - val_accuracy: 0.8955\n",
            "Epoch 20/20\n",
            "131/132 [============================>.] - ETA: 0s - loss: 0.0387 - accuracy: 0.9860\n",
            "Epoch 00020: val_loss did not improve from 0.25744\n",
            "132/132 [==============================] - 7s 55ms/step - loss: 0.0386 - accuracy: 0.9860 - val_loss: 0.4392 - val_accuracy: 0.8955\n"
          ]
        }
      ],
      "source": [
        "with tf.device(\"/device:GPU:0\"):\n",
        "  history = model.fit_generator(\n",
        "      trainData,\n",
        "      epochs=20,\n",
        "      validation_data=testData,\n",
        "      verbose=1,\n",
        "      callbacks=[modelcheckpoint]\n",
        "  )"
      ]
    },
    {
      "cell_type": "markdown",
      "metadata": {},
      "source": [
        "Plot the history of training"
      ]
    },
    {
      "cell_type": "code",
      "execution_count": 12,
      "metadata": {
        "colab": {
          "base_uri": "https://localhost:8080/",
          "height": 300
        },
        "id": "N0yLZbvhSQ73",
        "outputId": "15a491b4-7f62-48b0-c83b-eb6e1940b75f"
      },
      "outputs": [
        {
          "data": {
            "image/png": "[encoded data removed]",
            "text/plain": [
              "<Figure size 1440x432 with 2 Axes>"
            ]
          },
          "metadata": {
            "needs_background": "light"
          },
          "output_type": "display_data"
        }
      ],
      "source": [
        "plt.figure(figsize=(20,6))\n",
        "for i, met in enumerate(['accuracy', 'loss']):\n",
        "  plt.subplot(1,2,i+1)\n",
        "  plt.plot(history.history[met], color=\"b\")\n",
        "  plt.plot(history.history[\"val_\"+met], color=\"g\")\n",
        "  plt.title('Model '+met.capitalize())\n",
        "  plt.xlabel('epochs')\n",
        "  plt.ylabel(met)\n",
        "  plt.legend(['train', 'val'])"
      ]
    },
    {
      "cell_type": "markdown",
      "metadata": {},
      "source": [
        "Save model"
      ]
    },
    {
      "cell_type": "code",
      "execution_count": 13,
      "metadata": {
        "id": "aqdJDgoJWaGO"
      },
      "outputs": [],
      "source": [
        "model.save(\"drive/MyDrive/Datasets/lc/FPR/Training_Logs/2nd_Trial/model.h5\")"
      ]
    },
    {
      "cell_type": "markdown",
      "metadata": {},
      "source": [
        "Load checkpoint model"
      ]
    },
    {
      "cell_type": "code",
      "execution_count": 14,
      "metadata": {
        "id": "ytTKz8tEbuUh"
      },
      "outputs": [],
      "source": [
        "model2 = get_model()\n",
        "model2.compile(optimizer='adam', loss='binary_crossentropy', metrics=['accuracy'])\n",
        "model2.load_weights(\"checkpoint-008-0.257.hdf5\")\n",
        "model2.save(\"checkpoint_model.h5\")"
      ]
    },
    {
      "cell_type": "markdown",
      "metadata": {},
      "source": [
        "Copy saved model to google drive for future use"
      ]
    },
    {
      "cell_type": "code",
      "execution_count": 15,
      "metadata": {
        "id": "mB6ZQHGWbxSP"
      },
      "outputs": [],
      "source": [
        "!cp checkpoint_model.h5 drive/MyDrive/Datasets/lc/FPR/Training_Logs/2nd_Trial/best_checkpoint_model.h5"
      ]
    },
    {
      "cell_type": "code",
      "execution_count": null,
      "metadata": {
        "id": "eTrA3rIKccGD"
      },
      "outputs": [],
      "source": []
    }
  ],
  "metadata": {
    "accelerator": "GPU",
    "colab": {
      "collapsed_sections": [],
      "name": "LC_FPR_CNN_Training_v2.ipynb",
      "provenance": []
    },
    "kernelspec": {
      "display_name": "Python 3",
      "name": "python3"
    },
    "language_info": {
      "name": "python"
    }
  },
  "nbformat": 4,
  "nbformat_minor": 0
}
