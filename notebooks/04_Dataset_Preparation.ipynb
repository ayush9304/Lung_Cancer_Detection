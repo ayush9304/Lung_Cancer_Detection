{
  "cells": [
    {
      "cell_type": "markdown",
      "metadata": {},
      "source": [
        "Importing Modules"
      ]
    },
    {
      "cell_type": "code",
      "execution_count": null,
      "metadata": {
        "id": "TMxmQZPmn-2m"
      },
      "outputs": [],
      "source": [
        "import numpy as np\n",
        "import os\n",
        "import random\n",
        "from tqdm import tqdm\n",
        "from IPython.display import clear_output"
      ]
    },
    {
      "cell_type": "markdown",
      "metadata": {},
      "source": [
        "Mounting Google Drive to access Processed Dataset"
      ]
    },
    {
      "cell_type": "code",
      "execution_count": null,
      "metadata": {
        "colab": {
          "base_uri": "https://localhost:8080/"
        },
        "id": "7bfwpxn7oYE0",
        "outputId": "ae124242-9282-41e0-dc67-b1d83290708c"
      },
      "outputs": [
        {
          "name": "stdout",
          "output_type": "stream",
          "text": [
            "Mounted at drive\n"
          ]
        }
      ],
      "source": [
        "from google.colab import drive\n",
        "drive.mount(\"drive\")"
      ]
    },
    {
      "cell_type": "markdown",
      "metadata": {},
      "source": [
        "Unzip ProcessedData"
      ]
    },
    {
      "cell_type": "code",
      "execution_count": null,
      "metadata": {
        "id": "u0z6BW7jodEQ"
      },
      "outputs": [],
      "source": [
        "!unzip drive/MyDrive/Datasets/lc/v4/ProcessedData.zip\n",
        "clear_output()"
      ]
    },
    {
      "cell_type": "markdown",
      "metadata": {},
      "source": [
        "Load file names in the Dataset"
      ]
    },
    {
      "cell_type": "code",
      "execution_count": null,
      "metadata": {
        "id": "7pGpzfZ1oxeq"
      },
      "outputs": [],
      "source": [
        "lung_names = os.listdir(\"ProcessedData/lungs_roi/\")\n",
        "random.shuffle(lung_names)"
      ]
    },
    {
      "cell_type": "markdown",
      "metadata": {},
      "source": [
        "Splitting files in train-test data in ratio 8:2"
      ]
    },
    {
      "cell_type": "code",
      "execution_count": null,
      "metadata": {
        "colab": {
          "base_uri": "https://localhost:8080/"
        },
        "id": "dW2MhCWZpQzm",
        "outputId": "bff65801-0141-4274-b3fa-dffea7a9a66a"
      },
      "outputs": [
        {
          "name": "stdout",
          "output_type": "stream",
          "text": [
            "1338\n",
            "335\n"
          ]
        }
      ],
      "source": [
        "n = len(lung_names)\n",
        "s = int(n*.8)\n",
        "train_lung_names = lung_names[:s]\n",
        "test_lung_names = lung_names[s:]\n",
        "print(len(train_lung_names))\n",
        "print(len(test_lung_names))"
      ]
    },
    {
      "cell_type": "markdown",
      "metadata": {},
      "source": [
        "Creating single npy file for train images (lungs and nodule masks)"
      ]
    },
    {
      "cell_type": "code",
      "execution_count": null,
      "metadata": {
        "colab": {
          "base_uri": "https://localhost:8080/"
        },
        "id": "Qvbah7lTp6dF",
        "outputId": "8a304607-f3e3-483a-a384-8eb209e4e3f9"
      },
      "outputs": [
        {
          "name": "stderr",
          "output_type": "stream",
          "text": [
            "100%|██████████| 1338/1338 [00:01<00:00, 850.91it/s]\n"
          ]
        }
      ],
      "source": [
        "trainX = []\n",
        "trainY = []\n",
        "\n",
        "for lname in tqdm(train_lung_names):\n",
        "  mname = lname.replace(\"lungs\",\"masks\")\n",
        "  lung = np.load(\"ProcessedData/lungs_roi/\"+lname)\n",
        "  mask = np.load(\"ProcessedData/nodule_mask/\"+mname)\n",
        "  trainX.append(lung)\n",
        "  trainY.append(mask)\n",
        "\n",
        "trainX = np.array(trainX, dtype=np.uint8)\n",
        "trainY = np.array(trainY, dtype=np.uint8)\n",
        "\n",
        "np.save(\"trainX.npy\", trainX)\n",
        "np.save(\"trainY.npy\", trainY)"
      ]
    },
    {
      "cell_type": "markdown",
      "metadata": {},
      "source": [
        "Creating single npy file for test images (lungs and nodule masks)"
      ]
    },
    {
      "cell_type": "code",
      "execution_count": null,
      "metadata": {
        "colab": {
          "base_uri": "https://localhost:8080/"
        },
        "id": "8k8t2yOfrmZc",
        "outputId": "2649a48f-ecb5-4018-bf3d-d749b53d0887"
      },
      "outputs": [
        {
          "name": "stderr",
          "output_type": "stream",
          "text": [
            "100%|██████████| 335/335 [00:00<00:00, 1081.32it/s]\n"
          ]
        }
      ],
      "source": [
        "testX = []\n",
        "testY = []\n",
        "\n",
        "for lname in tqdm(test_lung_names):\n",
        "  mname = lname.replace(\"lungs\",\"masks\")\n",
        "  lung = np.load(\"ProcessedData/lungs_roi/\"+lname)\n",
        "  mask = np.load(\"ProcessedData/nodule_mask/\"+mname)\n",
        "  testX.append(lung)\n",
        "  testY.append(mask)\n",
        "\n",
        "testX = np.array(testX, dtype=np.uint8)\n",
        "testY = np.array(testY, dtype=np.uint8)\n",
        "\n",
        "np.save(\"testX.npy\", testX)\n",
        "np.save(\"testY.npy\", testY)"
      ]
    },
    {
      "cell_type": "markdown",
      "metadata": {},
      "source": [
        "Copying created npy files to google drive for future use"
      ]
    },
    {
      "cell_type": "code",
      "execution_count": null,
      "metadata": {
        "id": "kVfuunYbtGji"
      },
      "outputs": [],
      "source": [
        "!cp trainX.npy drive/MyDrive/Datasets/lc/v4/trainX.npy\n",
        "!cp trainY.npy drive/MyDrive/Datasets/lc/v4/trainY.npy\n",
        "\n",
        "!cp testX.npy drive/MyDrive/Datasets/lc/v4/testX.npy\n",
        "!cp testY.npy drive/MyDrive/Datasets/lc/v4/testY.npy"
      ]
    },
    {
      "cell_type": "code",
      "execution_count": null,
      "metadata": {
        "id": "9g4VtIKmtakZ"
      },
      "outputs": [],
      "source": []
    }
  ],
  "metadata": {
    "colab": {
      "collapsed_sections": [],
      "name": "LC Dataset Preparation v4.ipynb",
      "provenance": []
    },
    "kernelspec": {
      "display_name": "Python 3",
      "name": "python3"
    },
    "language_info": {
      "name": "python"
    }
  },
  "nbformat": 4,
  "nbformat_minor": 0
}
