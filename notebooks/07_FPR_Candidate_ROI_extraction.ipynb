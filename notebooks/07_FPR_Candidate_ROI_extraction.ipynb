{
 "cells": [
  {
   "cell_type": "markdown",
   "id": "ab0cafbc",
   "metadata": {},
   "source": [
    "Importing Modules"
   ]
  },
  {
   "cell_type": "code",
   "execution_count": 1,
   "id": "e91d0d80-318c-4520-b4a8-c971be1ac4f7",
   "metadata": {},
   "outputs": [],
   "source": [
    "import os\n",
    "import cv2\n",
    "import pandas as pd\n",
    "import numpy as np\n",
    "import matplotlib.pyplot as plt\n",
    "from skimage import measure\n",
    "import SimpleITK as stk\n",
    "from glob import glob\n",
    "from tqdm import tqdm"
   ]
  },
  {
   "cell_type": "markdown",
   "id": "168e20df",
   "metadata": {},
   "source": [
    "Paths for Source & Destination of Data"
   ]
  },
  {
   "cell_type": "code",
   "execution_count": 2,
   "id": "b72e6689-0a15-4a30-847f-083311d28daa",
   "metadata": {},
   "outputs": [],
   "source": [
    "root = \"../../DATA/\"\n",
    "target_root = \"../../FPRProcessedData/\""
   ]
  },
  {
   "cell_type": "markdown",
   "id": "d3a13a16",
   "metadata": {},
   "source": [
    "Getting files names from subset of data"
   ]
  },
  {
   "cell_type": "code",
   "execution_count": 3,
   "id": "93dd4637-7d2c-40e6-b03d-c2b966441d7d",
   "metadata": {},
   "outputs": [
    {
     "name": "stdout",
     "output_type": "stream",
     "text": [
      "Files Count: 89\n"
     ]
    }
   ],
   "source": [
    "subset = 4    # Ran for 0...9\n",
    "file_list = glob(root+f\"subset{subset}/*.mhd\")\n",
    "print(\"Files Count:\",len(file_list))"
   ]
  },
  {
   "cell_type": "markdown",
   "id": "3cdf2ae3",
   "metadata": {},
   "source": [
    "Reading candidates.csv"
   ]
  },
  {
   "cell_type": "code",
   "execution_count": 4,
   "id": "b13bba0d-25bb-495d-acfb-825fd645198a",
   "metadata": {},
   "outputs": [],
   "source": [
    "candidates_df = pd.read_csv(root+\"candidates.csv\")"
   ]
  },
  {
   "cell_type": "code",
   "execution_count": 5,
   "id": "b88012ab-e90c-488d-9f00-ad99e539de5d",
   "metadata": {},
   "outputs": [
    {
     "data": {
      "text/html": [
       "<div>\n",
       "<style scoped>\n",
       "    .dataframe tbody tr th:only-of-type {\n",
       "        vertical-align: middle;\n",
       "    }\n",
       "\n",
       "    .dataframe tbody tr th {\n",
       "        vertical-align: top;\n",
       "    }\n",
       "\n",
       "    .dataframe thead th {\n",
       "        text-align: right;\n",
       "    }\n",
       "</style>\n",
       "<table border=\"1\" class=\"dataframe\">\n",
       "  <thead>\n",
       "    <tr style=\"text-align: right;\">\n",
       "      <th></th>\n",
       "      <th>seriesuid</th>\n",
       "      <th>coordX</th>\n",
       "      <th>coordY</th>\n",
       "      <th>coordZ</th>\n",
       "      <th>class</th>\n",
       "    </tr>\n",
       "  </thead>\n",
       "  <tbody>\n",
       "    <tr>\n",
       "      <th>0</th>\n",
       "      <td>1.3.6.1.4.1.14519.5.2.1.6279.6001.100225287222...</td>\n",
       "      <td>-56.08</td>\n",
       "      <td>-67.85</td>\n",
       "      <td>-311.92</td>\n",
       "      <td>0</td>\n",
       "    </tr>\n",
       "    <tr>\n",
       "      <th>1</th>\n",
       "      <td>1.3.6.1.4.1.14519.5.2.1.6279.6001.100225287222...</td>\n",
       "      <td>53.21</td>\n",
       "      <td>-244.41</td>\n",
       "      <td>-245.17</td>\n",
       "      <td>0</td>\n",
       "    </tr>\n",
       "    <tr>\n",
       "      <th>2</th>\n",
       "      <td>1.3.6.1.4.1.14519.5.2.1.6279.6001.100225287222...</td>\n",
       "      <td>103.66</td>\n",
       "      <td>-121.80</td>\n",
       "      <td>-286.62</td>\n",
       "      <td>0</td>\n",
       "    </tr>\n",
       "    <tr>\n",
       "      <th>3</th>\n",
       "      <td>1.3.6.1.4.1.14519.5.2.1.6279.6001.100225287222...</td>\n",
       "      <td>-33.66</td>\n",
       "      <td>-72.75</td>\n",
       "      <td>-308.41</td>\n",
       "      <td>0</td>\n",
       "    </tr>\n",
       "    <tr>\n",
       "      <th>4</th>\n",
       "      <td>1.3.6.1.4.1.14519.5.2.1.6279.6001.100225287222...</td>\n",
       "      <td>-32.25</td>\n",
       "      <td>-85.36</td>\n",
       "      <td>-362.51</td>\n",
       "      <td>0</td>\n",
       "    </tr>\n",
       "  </tbody>\n",
       "</table>\n",
       "</div>"
      ],
      "text/plain": [
       "                                           seriesuid  coordX  coordY  coordZ  \\\n",
       "0  1.3.6.1.4.1.14519.5.2.1.6279.6001.100225287222...  -56.08  -67.85 -311.92   \n",
       "1  1.3.6.1.4.1.14519.5.2.1.6279.6001.100225287222...   53.21 -244.41 -245.17   \n",
       "2  1.3.6.1.4.1.14519.5.2.1.6279.6001.100225287222...  103.66 -121.80 -286.62   \n",
       "3  1.3.6.1.4.1.14519.5.2.1.6279.6001.100225287222...  -33.66  -72.75 -308.41   \n",
       "4  1.3.6.1.4.1.14519.5.2.1.6279.6001.100225287222...  -32.25  -85.36 -362.51   \n",
       "\n",
       "   class  \n",
       "0      0  \n",
       "1      0  \n",
       "2      0  \n",
       "3      0  \n",
       "4      0  "
      ]
     },
     "execution_count": 5,
     "metadata": {},
     "output_type": "execute_result"
    }
   ],
   "source": [
    "candidates_df.head()"
   ]
  },
  {
   "cell_type": "code",
   "execution_count": 6,
   "id": "0a71e054-c931-4638-87b7-0250def2799d",
   "metadata": {},
   "outputs": [
    {
     "name": "stdout",
     "output_type": "stream",
     "text": [
      "Total Candidates: 551065\n",
      "Positives: 1351\n"
     ]
    }
   ],
   "source": [
    "print(\"Total Candidates:\",len(candidates_df))\n",
    "print(\"Positives:\",candidates_df['class'].sum())"
   ]
  },
  {
   "cell_type": "code",
   "execution_count": 7,
   "id": "5cd574e5-80de-4382-b9a9-cb74f93920ad",
   "metadata": {},
   "outputs": [
    {
     "name": "stdout",
     "output_type": "stream",
     "text": [
      "<class 'pandas.core.frame.DataFrame'>\n",
      "RangeIndex: 551065 entries, 0 to 551064\n",
      "Data columns (total 5 columns):\n",
      " #   Column     Non-Null Count   Dtype  \n",
      "---  ------     --------------   -----  \n",
      " 0   seriesuid  551065 non-null  object \n",
      " 1   coordX     551065 non-null  float64\n",
      " 2   coordY     551065 non-null  float64\n",
      " 3   coordZ     551065 non-null  float64\n",
      " 4   class      551065 non-null  int64  \n",
      "dtypes: float64(3), int64(1), object(1)\n",
      "memory usage: 21.0+ MB\n"
     ]
    }
   ],
   "source": [
    "candidates_df.info()"
   ]
  },
  {
   "cell_type": "markdown",
   "id": "00858bc4",
   "metadata": {},
   "source": [
    "Function to filter ctscan files that are in subset as well as in candidates.csv"
   ]
  },
  {
   "cell_type": "code",
   "execution_count": 8,
   "id": "9db11c46-2cfc-4688-a142-b67dc33ddc3c",
   "metadata": {},
   "outputs": [],
   "source": [
    "def get_filename(file_list, file):\n",
    "    for f in file_list:\n",
    "        if file in f:\n",
    "            return f"
   ]
  },
  {
   "cell_type": "markdown",
   "id": "e0b34345",
   "metadata": {},
   "source": [
    "Function to load mhd files"
   ]
  },
  {
   "cell_type": "code",
   "execution_count": 9,
   "id": "ee62c13f-e7ab-4430-b331-8efa3ffcafe6",
   "metadata": {},
   "outputs": [],
   "source": [
    "def load_mhd(file):\n",
    "    mhdimage = stk.ReadImage(file)\n",
    "    ct_scan = stk.GetArrayFromImage(mhdimage)\n",
    "    origin = np.array(list(mhdimage.GetOrigin()))\n",
    "    space = np.array(list(mhdimage.GetSpacing()))\n",
    "    return ct_scan, origin, space"
   ]
  },
  {
   "cell_type": "code",
   "execution_count": 10,
   "id": "1853a2cc-8320-456e-bc7a-dd0d97ae265e",
   "metadata": {},
   "outputs": [
    {
     "name": "stdout",
     "output_type": "stream",
     "text": [
      "54509\n"
     ]
    }
   ],
   "source": [
    "candidates_df[\"filename\"] = candidates_df[\"seriesuid\"].map(lambda file: get_filename(file_list, file))\n",
    "candidates_df = candidates_df.dropna()\n",
    "print(len(candidates_df))"
   ]
  },
  {
   "cell_type": "code",
   "execution_count": 11,
   "id": "fb39836a-1443-4178-9bf5-49b14e141116",
   "metadata": {},
   "outputs": [
    {
     "data": {
      "text/html": [
       "<div>\n",
       "<style scoped>\n",
       "    .dataframe tbody tr th:only-of-type {\n",
       "        vertical-align: middle;\n",
       "    }\n",
       "\n",
       "    .dataframe tbody tr th {\n",
       "        vertical-align: top;\n",
       "    }\n",
       "\n",
       "    .dataframe thead th {\n",
       "        text-align: right;\n",
       "    }\n",
       "</style>\n",
       "<table border=\"1\" class=\"dataframe\">\n",
       "  <thead>\n",
       "    <tr style=\"text-align: right;\">\n",
       "      <th></th>\n",
       "      <th>seriesuid</th>\n",
       "      <th>coordX</th>\n",
       "      <th>coordY</th>\n",
       "      <th>coordZ</th>\n",
       "      <th>class</th>\n",
       "      <th>filename</th>\n",
       "    </tr>\n",
       "  </thead>\n",
       "  <tbody>\n",
       "    <tr>\n",
       "      <th>2140</th>\n",
       "      <td>1.3.6.1.4.1.14519.5.2.1.6279.6001.100530488926...</td>\n",
       "      <td>72.229613</td>\n",
       "      <td>-41.744613</td>\n",
       "      <td>-186.820351</td>\n",
       "      <td>0</td>\n",
       "      <td>../../DATA/subset4\\1.3.6.1.4.1.14519.5.2.1.627...</td>\n",
       "    </tr>\n",
       "    <tr>\n",
       "      <th>2141</th>\n",
       "      <td>1.3.6.1.4.1.14519.5.2.1.6279.6001.100530488926...</td>\n",
       "      <td>-48.140000</td>\n",
       "      <td>-43.320000</td>\n",
       "      <td>-117.710000</td>\n",
       "      <td>0</td>\n",
       "      <td>../../DATA/subset4\\1.3.6.1.4.1.14519.5.2.1.627...</td>\n",
       "    </tr>\n",
       "    <tr>\n",
       "      <th>2142</th>\n",
       "      <td>1.3.6.1.4.1.14519.5.2.1.6279.6001.100530488926...</td>\n",
       "      <td>68.774109</td>\n",
       "      <td>60.862426</td>\n",
       "      <td>-120.727640</td>\n",
       "      <td>0</td>\n",
       "      <td>../../DATA/subset4\\1.3.6.1.4.1.14519.5.2.1.627...</td>\n",
       "    </tr>\n",
       "    <tr>\n",
       "      <th>2143</th>\n",
       "      <td>1.3.6.1.4.1.14519.5.2.1.6279.6001.100530488926...</td>\n",
       "      <td>80.318289</td>\n",
       "      <td>79.039325</td>\n",
       "      <td>-187.103620</td>\n",
       "      <td>0</td>\n",
       "      <td>../../DATA/subset4\\1.3.6.1.4.1.14519.5.2.1.627...</td>\n",
       "    </tr>\n",
       "    <tr>\n",
       "      <th>2144</th>\n",
       "      <td>1.3.6.1.4.1.14519.5.2.1.6279.6001.100530488926...</td>\n",
       "      <td>-11.602629</td>\n",
       "      <td>-62.389179</td>\n",
       "      <td>-207.431214</td>\n",
       "      <td>0</td>\n",
       "      <td>../../DATA/subset4\\1.3.6.1.4.1.14519.5.2.1.627...</td>\n",
       "    </tr>\n",
       "  </tbody>\n",
       "</table>\n",
       "</div>"
      ],
      "text/plain": [
       "                                              seriesuid     coordX     coordY  \\\n",
       "2140  1.3.6.1.4.1.14519.5.2.1.6279.6001.100530488926...  72.229613 -41.744613   \n",
       "2141  1.3.6.1.4.1.14519.5.2.1.6279.6001.100530488926... -48.140000 -43.320000   \n",
       "2142  1.3.6.1.4.1.14519.5.2.1.6279.6001.100530488926...  68.774109  60.862426   \n",
       "2143  1.3.6.1.4.1.14519.5.2.1.6279.6001.100530488926...  80.318289  79.039325   \n",
       "2144  1.3.6.1.4.1.14519.5.2.1.6279.6001.100530488926... -11.602629 -62.389179   \n",
       "\n",
       "          coordZ  class                                           filename  \n",
       "2140 -186.820351      0  ../../DATA/subset4\\1.3.6.1.4.1.14519.5.2.1.627...  \n",
       "2141 -117.710000      0  ../../DATA/subset4\\1.3.6.1.4.1.14519.5.2.1.627...  \n",
       "2142 -120.727640      0  ../../DATA/subset4\\1.3.6.1.4.1.14519.5.2.1.627...  \n",
       "2143 -187.103620      0  ../../DATA/subset4\\1.3.6.1.4.1.14519.5.2.1.627...  \n",
       "2144 -207.431214      0  ../../DATA/subset4\\1.3.6.1.4.1.14519.5.2.1.627...  "
      ]
     },
     "execution_count": 11,
     "metadata": {},
     "output_type": "execute_result"
    }
   ],
   "source": [
    "candidates_df.head()"
   ]
  },
  {
   "cell_type": "code",
   "execution_count": 12,
   "id": "3bc6f42d-d836-4552-a62f-07119ec78652",
   "metadata": {},
   "outputs": [
    {
     "name": "stderr",
     "output_type": "stream",
     "text": [
      "100%|██████████████████████████████████████████████████████████████████████████████████| 89/89 [06:02<00:00,  4.07s/it]\n"
     ]
    }
   ],
   "source": [
    "clahe = cv2.createCLAHE(clipLimit=2.0, tileGridSize=(8,8))  # CLAHE(Contrast Limited Adaptive Histogram Equalization) filter for enhancing the contrast of an image\n",
    "for i,file in tqdm(enumerate(np.unique(candidates_df['filename'].values)), total=len(np.unique(candidates_df['filename'].values))):\n",
    "    candidates = candidates_df[candidates_df[\"filename\"]==file]\n",
    "    ct, origin, space = load_mhd(file)\n",
    "    num_z, height, width = ct.shape\n",
    "    ct_norm = cv2.normalize(ct, None, 0, 255, cv2.NORM_MINMAX)\n",
    "    for idx, row in candidates.iterrows():\n",
    "        node_x = int(row[\"coordX\"])     # x-coordinate of the candidate\n",
    "        node_y = int(row[\"coordY\"])     # y-coordinate of the candidate\n",
    "        node_z = int(row[\"coordZ\"])     # z-coordinate of the candidate\n",
    "        c = int(row[\"class\"])           # class of the candidate (1: nodule, 0: non-nodule)\n",
    "        \n",
    "        center = np.array([node_x, node_y, node_z])   # nodule center\n",
    "        v_center = np.rint((center-origin)/space)   # nodule center in voxel space (still x,y,z ordering)\n",
    "\n",
    "        img_norm = ct_norm[int(v_center[2]),:,:]    # a slice of the CT scan containing the candidate\n",
    "        img_norm = cv2.resize(img_norm, (512,512))  # resize the image to 512x512\n",
    "        img_norm_improved = clahe.apply(img_norm.astype(np.uint8))  # apply CLAHE filter to the image\n",
    "        \n",
    "        x=abs(int(v_center[0]))\n",
    "        y=abs(int(v_center[1]))\n",
    "        box = img_norm_improved[max(0,y-25):min(y+25,512),max(0,x-25):min(x+25,512)]    # extract a box of size 25x25 around the candidate\n",
    "        if box.shape != (50,50):\n",
    "            box = cv2.resize(box, (50,50))\n",
    "        \n",
    "        if c:  # if the candidate is a nodule\n",
    "            # applying different image transformations to increase the number of nodule candidates\n",
    "            cv2.imwrite(os.path.join(target_root+\"nodule/\", f\"candidate_{subset}_{c}_{idx}.jpg\"),box)\n",
    "            cv2.imwrite(os.path.join(target_root+\"nodule/\", f\"candidate_{subset}_{c}_{idx}_1.jpg\"),cv2.rotate(box,cv2.ROTATE_90_CLOCKWISE))\n",
    "            cv2.imwrite(os.path.join(target_root+\"nodule/\", f\"candidate_{subset}_{c}_{idx}_2.jpg\"),cv2.rotate(box, cv2.ROTATE_90_COUNTERCLOCKWISE))\n",
    "            cv2.imwrite(os.path.join(target_root+\"nodule/\", f\"candidate_{subset}_{c}_{idx}_3.jpg\"),cv2.rotate(box, cv2.ROTATE_180))\n",
    "            cv2.imwrite(os.path.join(target_root+\"nodule/\", f\"candidate_{subset}_{c}_{idx}_4.jpg\"),cv2.flip(box, 1))\n",
    "        else:  # if the candidate is not a nodule\n",
    "            cv2.imwrite(os.path.join(target_root+\"non-nodule-initial/\", f\"candidate_{subset}_{c}_{idx}.jpg\"),box)"
   ]
  },
  {
   "cell_type": "code",
   "execution_count": null,
   "id": "e6a2585b-ae4c-4e2d-90c8-8b599d4e4b1d",
   "metadata": {},
   "outputs": [],
   "source": []
  }
 ],
 "metadata": {
  "kernelspec": {
   "display_name": "Python 3 (ipykernel)",
   "language": "python",
   "name": "python3"
  },
  "language_info": {
   "codemirror_mode": {
    "name": "ipython",
    "version": 3
   },
   "file_extension": ".py",
   "mimetype": "text/x-python",
   "name": "python",
   "nbconvert_exporter": "python",
   "pygments_lexer": "ipython3",
   "version": "3.9.9"
  }
 },
 "nbformat": 4,
 "nbformat_minor": 5
}
